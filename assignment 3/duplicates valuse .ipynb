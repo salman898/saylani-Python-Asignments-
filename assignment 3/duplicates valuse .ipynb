{
 "cells": [
  {
   "cell_type": "code",
   "execution_count": 9,
   "metadata": {},
   "outputs": [
    {
     "name": "stdout",
     "output_type": "stream",
     "text": [
      "[13, 3, 30, 9, 45, 12]\n"
     ]
    }
   ],
   "source": [
    "#Write a program to identify duplicate values from list\n",
    "\n",
    "l = [ 3, 6, 9,13,13, 12,30,45, 3, 30, 15, 9, 45, 36, 12, 12]\n",
    "dupNum = []\n",
    "uniqNum = {}\n",
    "for s in l:\n",
    "   if s not in uniqNum:\n",
    "      uniqNum[s] = 1\n",
    "   else:\n",
    "      if uniqNum[s] == 1:\n",
    "         dupNum.append(s)\n",
    "      uniqNum[s] += 1\n",
    "print(dupNum)"
   ]
  },
  {
   "cell_type": "code",
   "execution_count": null,
   "metadata": {},
   "outputs": [],
   "source": []
  },
  {
   "cell_type": "code",
   "execution_count": null,
   "metadata": {},
   "outputs": [],
   "source": []
  }
 ],
 "metadata": {
  "kernelspec": {
   "display_name": "Python 3",
   "language": "python",
   "name": "python3"
  },
  "language_info": {
   "codemirror_mode": {
    "name": "ipython",
    "version": 3
   },
   "file_extension": ".py",
   "mimetype": "text/x-python",
   "name": "python",
   "nbconvert_exporter": "python",
   "pygments_lexer": "ipython3",
   "version": "3.7.4"
  }
 },
 "nbformat": 4,
 "nbformat_minor": 2
}
