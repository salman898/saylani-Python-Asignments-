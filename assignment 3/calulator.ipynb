{
 "cells": [
  {
   "cell_type": "code",
   "execution_count": 16,
   "metadata": {},
   "outputs": [
    {
     "name": "stdout",
     "output_type": "stream",
     "text": [
      "Enter first value: 2\n",
      "Enter second value: 2\n",
      "Enter your desire opertor like +,-,*,/,power(**)**\n",
      "your answer is :  4\n"
     ]
    }
   ],
   "source": [
    "num1 = int(input('Enter first value: '))\n",
    "num2 = int(input('Enter second value: '))\n",
    "operator = input('Enter your desire opertor like +,-,*,/,power(**)')\n",
    "\n",
    "if operator == '+':\n",
    "   k = num1 + num2\n",
    "   print('your answer is : ',k)\n",
    "elif operator == '-':\n",
    "   k = num1 - num2\n",
    "   print('your answer is : ',k)\n",
    "elif operator == '*':\n",
    "   k = num1 * num2\n",
    "   print('your answer is : ',k)\n",
    "elif operator == '/':\n",
    "   k = num1 / num2\n",
    "   print('your answer is : ',k)\n",
    "elif operator == '**':\n",
    "    k = num1 ** num2\n",
    "    print('your answer is : ',k)\n",
    "else:\n",
    "   print('Enter Correct operator')"
   ]
  },
  {
   "cell_type": "code",
   "execution_count": null,
   "metadata": {},
   "outputs": [],
   "source": []
  }
 ],
 "metadata": {
  "kernelspec": {
   "display_name": "Python 3",
   "language": "python",
   "name": "python3"
  },
  "language_info": {
   "codemirror_mode": {
    "name": "ipython",
    "version": 3
   },
   "file_extension": ".py",
   "mimetype": "text/x-python",
   "name": "python",
   "nbconvert_exporter": "python",
   "pygments_lexer": "ipython3",
   "version": "3.7.4"
  }
 },
 "nbformat": 4,
 "nbformat_minor": 2
}
