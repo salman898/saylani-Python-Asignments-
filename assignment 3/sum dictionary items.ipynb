{
 "cells": [
  {
   "cell_type": "code",
   "execution_count": 2,
   "metadata": {},
   "outputs": [
    {
     "name": "stdout",
     "output_type": "stream",
     "text": [
      "Total sum of items in the dictionary: \n",
      "180\n"
     ]
    }
   ],
   "source": [
    "#Write a Python program to sum all the numeric items in a dictionary\n",
    "sk = {'S':50,'T':40,'K':90}\n",
    "print(\"Total sum of items in the dictionary: \")\n",
    "print(sum(sk.values()))"
   ]
  },
  {
   "cell_type": "code",
   "execution_count": null,
   "metadata": {},
   "outputs": [],
   "source": []
  }
 ],
 "metadata": {
  "kernelspec": {
   "display_name": "Python 3",
   "language": "python",
   "name": "python3"
  },
  "language_info": {
   "codemirror_mode": {
    "name": "ipython",
    "version": 3
   },
   "file_extension": ".py",
   "mimetype": "text/x-python",
   "name": "python",
   "nbconvert_exporter": "python",
   "pygments_lexer": "ipython3",
   "version": "3.7.4"
  }
 },
 "nbformat": 4,
 "nbformat_minor": 2
}
