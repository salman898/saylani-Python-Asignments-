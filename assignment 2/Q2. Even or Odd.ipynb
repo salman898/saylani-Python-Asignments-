{
 "cells": [
  {
   "cell_type": "code",
   "execution_count": 4,
   "metadata": {},
   "outputs": [
    {
     "name": "stdout",
     "output_type": "stream",
     "text": [
      "Enter Your Desire Number:39\n",
      "Number is Odd:\n"
     ]
    }
   ],
   "source": [
    "#Check Weather Number is Even or Odd\n",
    "\n",
    "s=int(input(\"Enter Your Desire Number:\"))\n",
    "if s %2 ==0:\n",
    "    print(\"Number is Even\",s)\n",
    "else:\n",
    "   print(\"Number is Odd:\")"
   ]
  },
  {
   "cell_type": "code",
   "execution_count": null,
   "metadata": {},
   "outputs": [],
   "source": []
  }
 ],
 "metadata": {
  "kernelspec": {
   "display_name": "Python 3",
   "language": "python",
   "name": "python3"
  },
  "language_info": {
   "codemirror_mode": {
    "name": "ipython",
    "version": 3
   },
   "file_extension": ".py",
   "mimetype": "text/x-python",
   "name": "python",
   "nbconvert_exporter": "python",
   "pygments_lexer": "ipython3",
   "version": "3.7.4"
  }
 },
 "nbformat": 4,
 "nbformat_minor": 2
}
