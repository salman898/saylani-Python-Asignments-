{
 "cells": [
  {
   "cell_type": "code",
   "execution_count": 3,
   "metadata": {},
   "outputs": [
    {
     "name": "stdout",
     "output_type": "stream",
     "text": [
      "Enter Marks of English: 69\n",
      "Enter Marks of Urdu: 70\n",
      "Enter Marks of Programming: 90\n",
      "Enter Marks of DataBase: 35\n",
      "Enter Marks of Multimedia: 45\n",
      "Do more struggle: Your Grade is: D\n"
     ]
    }
   ],
   "source": [
    "a1=int(input(\"Enter Marks of English: \"))\n",
    "b2=int(input(\"Enter Marks of Urdu: \"))\n",
    "c3=int(input(\"Enter Marks of Programming: \"))\n",
    "d4=int(input(\"Enter Marks of DataBase: \"))\n",
    "e5=int(input(\"Enter Marks of Multimedia: \"))\n",
    "avg=(a1+b2+c3+d4+e5)/5\n",
    "if(avg>=90):\n",
    "    print(\"WellDone: Your Grade is: A\")\n",
    "elif(avg>=80 and avg <90):\n",
    "    print(\"Excellent: Your Grade is: B\")\n",
    "elif(avg>=70 and avg <80):\n",
    "    print(\"Satisfied: Your Grade is: C\")\n",
    "elif(avg>=60 and avg <70):\n",
    "    print(\"Do more struggle: Your Grade is: D\")\n",
    "else:\n",
    "    print(\"Try again :Your Grade is : F\")"
   ]
  },
  {
   "cell_type": "code",
   "execution_count": null,
   "metadata": {},
   "outputs": [],
   "source": []
  }
 ],
 "metadata": {
  "kernelspec": {
   "display_name": "Python 3",
   "language": "python",
   "name": "python3"
  },
  "language_info": {
   "codemirror_mode": {
    "name": "ipython",
    "version": 3
   },
   "file_extension": ".py",
   "mimetype": "text/x-python",
   "name": "python",
   "nbconvert_exporter": "python",
   "pygments_lexer": "ipython3",
   "version": "3.7.4"
  }
 },
 "nbformat": 4,
 "nbformat_minor": 2
}
